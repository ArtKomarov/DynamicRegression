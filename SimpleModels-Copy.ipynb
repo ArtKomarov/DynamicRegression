{
 "cells": [
  {
   "cell_type": "code",
   "execution_count": 2,
   "metadata": {},
   "outputs": [
    {
     "name": "stdout",
     "output_type": "stream",
     "text": [
      "Populating the interactive namespace from numpy and matplotlib\n"
     ]
    },
    {
     "name": "stderr",
     "output_type": "stream",
     "text": [
      "/home/artem/Main/anaconda3/lib/python3.7/site-packages/IPython/core/magics/pylab.py:160: UserWarning: pylab import has clobbered these variables: ['plt']\n",
      "`%matplotlib` prevents importing * from pylab and numpy\n",
      "  \"\\n`%matplotlib` prevents importing * from pylab and numpy\"\n"
     ]
    }
   ],
   "source": [
    "import numpy as np\n",
    "import sklearn\n",
    "import torch\n",
    "import scipy\n",
    "from matplotlib import pylab as plt\n",
    "%pylab inline"
   ]
  },
  {
   "cell_type": "code",
   "execution_count": 84,
   "metadata": {},
   "outputs": [],
   "source": [
    "N_SAMPLES  = 50\n",
    "def simple_data_generator(size, random_state=None):\n",
    "    np.random.seed(random_state)\n",
    "    return np.random.random(size=(size, 2))\n",
    "\n",
    "#density_square = [(x1, x2, y1, y2), (...), ...] - coordinates of square with assigned dencity (dencity * size)\n",
    "def data_generator(size = N_SAMPLES, density_square=[(0, 0.2, 0, 1)], density=[0.5], random_state=None):\n",
    "    np.random.seed(random_state)\n",
    "    gen_data_size = 0\n",
    "    data=np.array([]).reshape(0,2)\n",
    "    for d, square in zip(density, density_square):\n",
    "        if(d > 1):\n",
    "            print(\"density must be float in range [0, 1]:\", density)\n",
    "            return\n",
    "        \n",
    "        size_i=int(size * d)\n",
    "        x_data_i = np.random.random(size=(size_i, 1)) * (square[1] - square[0]) + square[0]\n",
    "        y_data_i = np.random.random(size=(size_i, 1)) * (square[3] - square[2]) + square[2]\n",
    "        data = np.vstack((data, hstack((x_data_i, y_data_i))))\n",
    "        #print(data)\n",
    "        gen_data_size += size_i\n",
    "    if gen_data_size < size:\n",
    "        data = np.vstack((data, np.random.random(size=(size-gen_data_size, 2))))\n",
    "    return data\n",
    "\n",
    "test_datasets_lite = [\n",
    "    data_generator(density=[0.7]),\n",
    "    data_generator(100, density_square=[(0.2, 0.4, 0., 0.2), (0.5, 0.7, 0.8, 1)], density=[0.45, 0.45]),\n",
    "    data_generator(100, [(0, 1, 0, 0.2)], [1]),\n",
    "    data_generator(100, [(0, 0.8, 0, 0.2), (0.8, 1, 0, 1)], density=[0.55, 0.4]),\n",
    "    data_generator(100, [(0, 0.2, 0.6, 0.8), (0.8, 1, 0.7, 0.8)], [0.45, 0.45]),\n",
    "    data_generator(100, [(0, 0.2, 0, 0.8), (0, 1, 0.8, 1)], density=[0.45, 0.45]),\n",
    "    data_generator(100, [(0, 0.2, 0, 0.2), (0.2, 0.4, 0.2, 0.4),\n",
    "                         (0.4, 0.6, 0.4, 0.6), (0.6, 0.8, 0.6, 0.8), (0.8, 1, 0.8, 1)], [0.19, 0.19, 0.19, 0.19, 0.19]),\n",
    "]\n",
    "\n",
    "test_datasets_medium = [\n",
    "    data_generator(density=[0.7]),\n",
    "    data_generator(400, density_square=[(0.2, 0.4, 0., 0.2), (0.5, 0.7, 0.8, 1)], density=[0.45, 0.45]),\n",
    "    data_generator(400, [(0, 1, 0, 0.2)], [1]),\n",
    "    data_generator(400, [(0, 0.8, 0, 0.2), (0.8, 1, 0, 1)], density=[0.55, 0.4]),\n",
    "    data_generator(400, [(0, 0.2, 0.6, 0.8), (0.8, 1, 0.7, 0.8)], [0.45, 0.45]),\n",
    "    data_generator(400, [(0, 0.2, 0, 0.8), (0, 1, 0.8, 1)], density=[0.45, 0.45]),\n",
    "    data_generator(400, [(0, 0.2, 0, 0.2), (0.2, 0.4, 0.2, 0.4),\n",
    "                         (0.4, 0.6, 0.4, 0.6), (0.6, 0.8, 0.6, 0.8), (0.8, 1, 0.8, 1)], [0.19, 0.19, 0.19, 0.19, 0.19]),\n",
    "]\n",
    "\n",
    "test_datasets_hard = [\n",
    "    data_generator(density=[0.7]),\n",
    "    data_generator(1000, density_square=[(0.2, 0.4, 0., 0.2), (0.5, 0.7, 0.8, 1)], density=[0.45, 0.45]),\n",
    "    data_generator(1000, [(0, 1, 0, 0.2)], [1]),\n",
    "    data_generator(1000, [(0, 0.8, 0, 0.2), (0.8, 1, 0, 1)], density=[0.55, 0.4]),\n",
    "    data_generator(1000, [(0, 0.2, 0.6, 0.8), (0.8, 1, 0.7, 0.8)], [0.45, 0.45]),\n",
    "    data_generator(1000, [(0, 0.2, 0, 0.8), (0, 1, 0.8, 1)], density=[0.45, 0.45]),\n",
    "    data_generator(1000, [(0, 0.2, 0, 0.2), (0.2, 0.4, 0.2, 0.4),\n",
    "                         (0.4, 0.6, 0.4, 0.6), (0.6, 0.8, 0.6, 0.8), (0.8, 1, 0.8, 1)], [0.19, 0.19, 0.19, 0.19, 0.19]),\n",
    "]\n",
    "\n",
    "test_datasets_pro = [\n",
    "    data_generator(density=[0.7]),\n",
    "    data_generator(5000, density_square=[(0.2, 0.4, 0., 0.2), (0.5, 0.7, 0.8, 1)], density=[0.45, 0.45]),\n",
    "    data_generator(5000, [(0, 1, 0, 0.2)], [1]),\n",
    "    data_generator(5000, [(0, 0.8, 0, 0.2), (0.8, 1, 0, 1)], density=[0.55, 0.4]),\n",
    "    data_generator(5000, [(0, 0.2, 0.6, 0.8), (0.8, 1, 0.7, 0.8)], [0.45, 0.45]),\n",
    "    data_generator(5000, [(0, 0.2, 0, 0.8), (0, 1, 0.8, 1)], density=[0.45, 0.45]),\n",
    "    data_generator(5000, [(0, 0.2, 0, 0.2), (0.2, 0.4, 0.2, 0.4),\n",
    "                         (0.4, 0.6, 0.4, 0.6), (0.6, 0.8, 0.6, 0.8), (0.8, 1, 0.8, 1)], [0.19, 0.19, 0.19, 0.19, 0.19]),\n",
    "]"
   ]
  },
  {
   "cell_type": "code",
   "execution_count": 89,
   "metadata": {},
   "outputs": [],
   "source": [
    "def ApproxPlot(x, y, predict, name=\"\"):\n",
    "    \"\"\"\n",
    "    Build 2 graphices in the same plot:\n",
    "    scatter data plot and approximation curve\n",
    "    \"\"\"\n",
    "    y_pred = [predict(x_i) for x_i in x]\n",
    "    loss = np.abs(y - y_pred).sum() / y.shape[0]\n",
    "    lin_loss = np.abs(y - x).sum() / y.shape[0]\n",
    "    print(name, \"loss =\", loss)\n",
    "    print(\"liear function loss =\", lin_loss)\n",
    "    \n",
    "    plt.figure(figsize=[11,11])\n",
    "    plt.scatter(x, y, alpha=0.8, marker=\".\", label=\"training points\")\n",
    "    x_approx = np.linspace(0, 1, 1000)\n",
    "    y_approx = [predict(x_i) for x_i in x_approx]\n",
    "    plt.plot(x_approx, y_approx, c = 'r', linewidth=0.5, label=\"Approximation curve\")\n",
    "    plt.xlabel(\"x\")\n",
    "    plt.ylabel(\"y\")\n",
    "    plt.xlim(0, 1.)\n",
    "    plt.ylim(0, 1.)\n",
    "    plt.legend(loc='best')\n",
    "    plt.show()"
   ]
  },
  {
   "cell_type": "code",
   "execution_count": 90,
   "metadata": {},
   "outputs": [],
   "source": [
    "def RunTests(estimator, dataset):\n",
    "    for i, data in enumerate(dataset):\n",
    "        print(\"Dataset\", i, \":\")\n",
    "        %time losses = estimator.fit(data[:, 0], data[:, 1])\n",
    "        ApproxPlot(data[:, 0], data[:, 1], estimator.PredictProba)\n",
    "        plt.scatter(np.arange(0, len(losses) + 1), losses)\n",
    "        plt.title(\"Losses\")\n",
    "        plt.xlabel(\"Epoch\")\n",
    "        plt.ylabel(\"L1 discrepancy\")\n",
    "        plt.legend(loc=\"best\")\n",
    "        plt.show()"
   ]
  },
  {
   "cell_type": "code",
   "execution_count": 80,
   "metadata": {},
   "outputs": [],
   "source": [
    "def DBeta__(alpha, beta, x):\n",
    "    return (x ** (alpha - 1)) * ((1 - x) ** (beta - 1))\n",
    "\n",
    "def Beta(alpha, beta, x, N=100):\n",
    "    if x == 0:\n",
    "        return x \n",
    "    \n",
    "    res1 = torch.tensor(0,     dtype = float)\n",
    "    res2 = torch.tensor(0,     dtype = float)\n",
    "    step = torch.tensor(1 / N, dtype = float)\n",
    "    i = 0\n",
    "    last = x\n",
    "    \n",
    "    while step * i + step / 2 < last:\n",
    "        #print(\"i =\", i)\n",
    "        res1 += DBeta__(alpha, beta, step * i + step / 2) * step\n",
    "        i += 1\n",
    "        \n",
    "    res2 = res1.clone()\n",
    "    while step * i + step / 2 < 1:\n",
    "        res2 += DBeta__(alpha, beta, step * i + step / 2) * step\n",
    "        i += 1\n",
    "    \n",
    "    return res1 / res2"
   ]
  },
  {
   "cell_type": "code",
   "execution_count": 59,
   "metadata": {},
   "outputs": [],
   "source": [
    "def ScipyBeta(alpha, beta, x):\n",
    "    a = scipy.special.betainc(alpha, beta, x)\n",
    "    b = scipy.special.betainc(alpha, beta, torch.ones(x.shape, dtype=float))\n",
    "    return a / b"
   ]
  },
  {
   "cell_type": "code",
   "execution_count": 81,
   "metadata": {},
   "outputs": [],
   "source": [
    "from scipy import stats\n",
    "#from torch.distributions.beta import Beta\n",
    "#import tensorflow as tf\n",
    "#import tensorflow_probability as tfp\n",
    "#from tensorflow_probability.python import distributions\n",
    "\n",
    "InitAB = []\n",
    "\n",
    "class BetaRegression:\n",
    "    def __init__(self):\n",
    "        pass\n",
    "        \n",
    "    def LossFunc(self, x, y):\n",
    "        loss = 0\n",
    "        for i, x_i in enumerate(x):\n",
    "            loss += torch.abs(self.PredictProba(x_i) - y[i])\n",
    "        return loss\n",
    "    \n",
    "    def PredictProba(self, x):\n",
    "        #print(\"predict =\", Beta(self.alpha, self.beta, x))\n",
    "        return Beta(self.alpha, self.beta, x)\n",
    "        #b = Beta(self.alpha, self.beta)\n",
    "        #print(\"Torch beta cdf =\", b.log_prob(x))\n",
    "        #print(\"Scipy beta cdf =\", stats.beta.pdf(self.alpha.detach().numpy(), self.beta.detach().numpy(), x), self.alpha.detach().numpy(), self.beta.detach().numpy())\n",
    "        #ret = stats.beta.cdf(self.alpha.detach().numpy(), self.beta.detach().numpy(), x)\n",
    "        #if isinstance(a, numpy.ndarray):\n",
    "        #    return np.array(ret)\n",
    "        #else:\n",
    "        #    return torch.from_numpy(stats.beta.cdf(self.alpha.detach().numpy(), self.beta.detach().numpy(), x))\n",
    "    \n",
    "    def InitParams(self, random_state=None):\n",
    "        if random_state != None:\n",
    "            np.random.seed(random_state)\n",
    "        #self.alpha = tf.Variable(initial_value = np.random.random(1), dtype=tf.float32, name=\"alpha\")\n",
    "        #self.beta  = tf.Variable(initial_value = np.random.random(1), dtype=tf.float32, name=\"beta\")\n",
    "        #self.model = distributions.Beta(self.alpha, self.beta).cdf(x)\n",
    "        device = torch.device(\"cuda:0\" if torch.cuda.is_available() else \"cpu\")\n",
    "        self.alpha = torch.tensor(np.random.random(1)[0], dtype=float) #(torch.randn(1, dtype=torch.float) + 1) / 2\n",
    "        self.alpha.to(device)\n",
    "        self.alpha.requires_grad_()\n",
    "    \n",
    "        self.beta = torch.tensor(np.random.random(1)[0], dtype=float) #(torch.randn(1, dtype=torch.float) + 1) / 2\n",
    "        self.beta.to(device)\n",
    "        self.beta.requires_grad_()\n",
    "    \n",
    "    def fit(self, x, y, num_epochs=100, lr=1e-2, random_state=None):\n",
    "        #self.ab = tf.constant([np.random.random(1)[0], np.random.random(1)[0]], dtype=tf.float32, name=\"ab\")\n",
    "        #self.model = distributions.Beta(self.alpha, self.beta).cdf(x)\n",
    "        #mae_object = tf.keras.losses.MeanAbsoluteError()\n",
    "        #loss_func  = mae_object(y, self.PredictProba(x))\n",
    "        #optimizer  = tf.compat.v1.train.GradientDescentOptimizer(learning_rate = lr)\n",
    "        #feed_dict  = {tf_data_x : x, tf_data_y : y}\n",
    "        self.InitParams(random_state)\n",
    "        if isinstance(x, torch.Tensor) == False:\n",
    "            x = torch.tensor(x, dtype=float, requires_grad = False)\n",
    "        if isinstance(y, torch.Tensor) == False:\n",
    "            y = torch.tensor(y, dtype=float, requires_grad = False)\n",
    "        loss = []\n",
    "        print(x, y)\n",
    "        \n",
    "        optimizer = torch.optim.SGD([self.alpha, self.beta], lr=lr)\n",
    "        \n",
    "        InitAB = [self.alpha.item(), self.beta.item()]\n",
    "        \n",
    "        for _ in np.arange(num_epochs):\n",
    "            #with tf.GradientTape() as g:\n",
    "                #g.watch(self.ab)     \n",
    "            #Calculate losses\n",
    "            #mae_object = tf.keras.losses.MeanAbsoluteError()\n",
    "            #loss_i  = mae_object(y, self.PredictProba(x))            \n",
    "            #Calculate gradient\n",
    "            #print(\"alpha, beta =\", self.ab)\n",
    "            #gr = g.gradient(loss_i, self.ab)\n",
    "            #print(\"grad = \", gr)\n",
    "            #grad_ab    = gr / x.shape[0]\n",
    "            #print(grad_ab)\n",
    "            #new alpha, beta\n",
    "            #self.ab -= lr * grad_ab\n",
    "            #add loss to list\n",
    "            #print(\"loss_i =\", o)\n",
    "            \n",
    "            loss_i = self.LossFunc(x, y)\n",
    "            loss_i.backward()\n",
    "            optimizer.step()\n",
    "            optimizer.zero_grad()\n",
    "            \n",
    "            #a_step = lr * self.alpha.grad\n",
    "            #b_step = lr * self.beta.grad\n",
    "            #print(\"alpha =\", self.alpha)\n",
    "            #print(\"beta =\", self.beta)\n",
    "            #print(\"gradA=\", self.alpha.grad)\n",
    "            #print(\"gradB=\", self.beta.grad)\n",
    "            #self.alpha.data -= a_step if self.alpha.data > a_step else self.alpha.data / 2\n",
    "            #self.beta.data  -= b_step if self.beta.data > b_step else self.beta.data / 2\n",
    "            #self.alpha.grad.zero_()\n",
    "            #self.beta.grad.zero_()\n",
    "            loss.append(loss_i.data.item())\n",
    "            self.loss = loss\n",
    "        return loss\n"
   ]
  },
  {
   "cell_type": "code",
   "execution_count": 85,
   "metadata": {
    "scrolled": true
   },
   "outputs": [
    {
     "name": "stdout",
     "output_type": "stream",
     "text": [
      "tensor([0.3028, 0.2818, 0.2987, 0.2653, 0.2161, 0.2668, 0.3720, 0.3982, 0.2886,\n",
      "        0.3363, 0.2343, 0.2549, 0.3424, 0.3836, 0.3876, 0.3505, 0.2811, 0.3637,\n",
      "        0.3873, 0.2460, 0.2823, 0.2450, 0.3149, 0.2531, 0.2650, 0.2839, 0.2457,\n",
      "        0.2879, 0.3828, 0.2960, 0.2285, 0.2255, 0.2757, 0.2808, 0.2474, 0.2403,\n",
      "        0.3612, 0.2502, 0.3941, 0.3699, 0.2020, 0.2997, 0.3336, 0.2468, 0.3283,\n",
      "        0.6988, 0.6628, 0.6605, 0.5128, 0.5360, 0.6683, 0.5058, 0.5889, 0.5523,\n",
      "        0.5135, 0.6025, 0.5521, 0.6390, 0.6871, 0.6595, 0.5797, 0.6503, 0.5659,\n",
      "        0.6159, 0.5823, 0.5308, 0.6350, 0.5160, 0.6469, 0.5543, 0.6689, 0.5541,\n",
      "        0.5809, 0.6745, 0.5572, 0.5373, 0.5154, 0.5116, 0.6136, 0.6646, 0.6995,\n",
      "        0.6923, 0.5829, 0.6574, 0.5549, 0.6543, 0.6208, 0.6503, 0.5832, 0.6549,\n",
      "        0.1627, 0.0465, 0.9001, 0.6359, 0.9325, 0.0588, 0.0978, 0.1254, 0.5312,\n",
      "        0.1735], dtype=torch.float64) tensor([0.1938, 0.1775, 0.1906, 0.0046, 0.1850, 0.0727, 0.0963, 0.1540, 0.0893,\n",
      "        0.1941, 0.0562, 0.0794, 0.0962, 0.1853, 0.0398, 0.1640, 0.1796, 0.1648,\n",
      "        0.0601, 0.1964, 0.1677, 0.1838, 0.0328, 0.1095, 0.0447, 0.0846, 0.0043,\n",
      "        0.1886, 0.1619, 0.0235, 0.0592, 0.0874, 0.1227, 0.1227, 0.0158, 0.1122,\n",
      "        0.1023, 0.1014, 0.1250, 0.1485, 0.1479, 0.1334, 0.1836, 0.1638, 0.0100,\n",
      "        0.9439, 0.9898, 0.8322, 0.8298, 0.9646, 0.9884, 0.8647, 0.9825, 0.9972,\n",
      "        0.8920, 0.9584, 0.9479, 0.9073, 0.8897, 0.8733, 0.9042, 0.9877, 0.8146,\n",
      "        0.8439, 0.8511, 0.9324, 0.9608, 0.9527, 0.9714, 0.9682, 0.8659, 0.9830,\n",
      "        0.8941, 0.8222, 0.9237, 0.9405, 0.8078, 0.9627, 0.8633, 0.9063, 0.9593,\n",
      "        0.9314, 0.8073, 0.9145, 0.8665, 0.9286, 0.9976, 0.8376, 0.8952, 0.9698,\n",
      "        0.6384, 0.5413, 0.0056, 0.3543, 0.2542, 0.6046, 0.1168, 0.0234, 0.0952,\n",
      "        0.2170], dtype=torch.float64)\n",
      "CPU times: user 3min, sys: 43.9 ms, total: 3min\n",
      "Wall time: 3min\n"
     ]
    },
    {
     "data": {
      "image/png": "[encoded data removed]",
      "text/plain": [
       "<Figure size 432x288 with 1 Axes>"
      ]
     },
     "metadata": {
      "needs_background": "light"
     },
     "output_type": "display_data"
    },
    {
     "name": "stdout",
     "output_type": "stream",
     "text": [
      "tensor(0.9974, dtype=torch.float64, grad_fn=<DivBackward0>)\n"
     ]
    }
   ],
   "source": [
    "#device = torch.device(\"cuda:0\" if torch.cuda.is_available() else \"cpu\")\n",
    "\n",
    "\n",
    "br = BetaRegression()\n",
    "data = data_generator(100, density_square=[(0.2, 0.4, 0., 0.2), (0.5, 0.7, 0.8, 1)], density=[0.45, 0.45])\n",
    "#data = torch.from_numpy(data).float().to(device)\n",
    "%time loss = br.fit(data[:, 0], data[:, 1], lr=0.1, num_epochs=100)\n",
    "\n",
    "plt.scatter(data[:, 0], data[:, 1])\n",
    "plt.plot(torch.tensor(np.linspace(0, 1, 100)), [br.PredictProba(torch.tensor(x_i)) for x_i in np.linspace(0, 1, 100)])\n",
    "plt.show()\n",
    "print(br.PredictProba(0.8))\n",
    "\n",
    "#plt.scatter(data[:, 0], data[:, 1])\n",
    "#plt.plot(torch.tensor(np.linspace(0.01, 1, 100)), Beta(np.linspace(0.01, 1, 100)))\n",
    "#plt.show()"
   ]
  },
  {
   "cell_type": "code",
   "execution_count": 91,
   "metadata": {},
   "outputs": [
    {
     "data": {
      "image/png": "[encoded data removed]",
      "text/plain": [
       "<Figure size 432x288 with 1 Axes>"
      ]
     },
     "metadata": {
      "needs_background": "light"
     },
     "output_type": "display_data"
    },
    {
     "name": "stdout",
     "output_type": "stream",
     "text": [
      "tensor(0.9974, dtype=torch.float64, grad_fn=<DivBackward0>)\n",
      "[31.47524472809771, 27.812442838453634, 25.531991509527245, 23.724994420853967, 22.34264019837171, 20.778828597584337, 19.807629984277234, 19.104693342889792, 18.54947989209137, 18.093039581800397, 17.709790446948528, 17.369175004689467, 17.07466919380642, 16.809421217245973, 16.567693302577048, 16.36240584638641, 16.184351823814037, 16.014813649038608, 15.865176047021354, 15.728056896331275, 15.600720395664295, 15.48033820130489, 15.369976095933207, 15.267139806972748, 15.167187244845815, 15.078137292104074, 14.996932986345007, 14.922849354034655, 14.852789424590812, 14.78543192236137, 14.725023697055617, 14.675409685009246, 14.631328212569487, 14.589292614800945, 14.567890707392335, 14.502625827369183, 14.479506008661067, 14.44410891062429, 14.410962447370483, 14.384005582322208, 14.35790317872707, 14.332455479734486, 14.308626545431705, 14.285928272626938, 14.26432879567088, 14.241894122577218, 14.221546958296448, 14.203383253504363, 14.185493252394723, 14.167829478656007, 14.15052031196025, 14.134776611403526, 14.119332751361076, 14.104325208139546, 14.08886456125999, 14.073882435154433, 14.059192624644915, 14.044215625775236, 14.029935814929525, 14.015378898034715, 14.00097088881436, 13.987168675948881, 13.972934770325496, 13.959011461775408, 13.94544875117717, 13.932043723925352, 13.918522991775463, 13.905198810649617, 13.893239416582713, 13.881998995620176, 13.870834846939307, 13.859933863162471, 13.85183400523233, 13.838637650732018, 13.82777700845991, 13.816942135870667, 13.806132809866973, 13.796837309002722, 13.787256977497739, 13.77643144158315, 13.765647127240484, 13.754900984299493, 13.747186771056278, 13.751269820902941, 13.73827472468988, 13.73271091513714, 13.736079432204379, 13.72263186533174, 13.724396611379031, 13.716506547743633, 13.7098718767548, 13.70659709586644, 13.70739868583258, 13.700061654894526, 13.693375291257434, 13.689243112473132, 13.689308683254893, 13.682667933917305, 13.677648741925529, 13.67733011319099]\n"
     ]
    }
   ],
   "source": [
    "plt.scatter(data[:, 0], data[:, 1])\n",
    "plt.plot(torch.tensor(np.linspace(0, 1, 100)), [br.PredictProba(torch.tensor(x_i)) for x_i in np.linspace(0, 1, 100)])\n",
    "plt.show()\n",
    "print(br.PredictProba(0.8))\n",
    "print(loss)"
   ]
  },
  {
   "cell_type": "code",
   "execution_count": null,
   "metadata": {},
   "outputs": [],
   "source": [
    "print(br.alpha, br.beta) #0.4903 0.6874\n",
    "al = 40\n",
    "be = 0.1\n",
    "t = torch.tensor(np.linspace(0.01, 1, 100), dtype=float)\n",
    "my  = []\n",
    "sci = []\n",
    "\n",
    "for t_i in t:\n",
    "    my_i  = Beta(al, be, t_i)\n",
    "    sci_i = scipy.stats.beta.cdf(t_i, al, be)\n",
    "    print(my_i.item(), sci_i)\n",
    "    if t_i != 0.01 and my_i < my[-1]:\n",
    "        print(\"BAD x =\", t_i)\n",
    "    my.append(my_i)\n",
    "    sci.append(sci_i)\n",
    "\n",
    "plt.plot(t, my, label=\"My beta\", c=\"g\")\n",
    "plt.plot(t, sci, label=\"Scipy beta\", c=\"r\")\n",
    "plt.legend()\n",
    "plt.show()"
   ]
  },
  {
   "cell_type": "code",
   "execution_count": 710,
   "metadata": {},
   "outputs": [
    {
     "data": {
      "image/png": "[encoded data removed]",
      "text/plain": [
       "<Figure size 432x288 with 1 Axes>"
      ]
     },
     "metadata": {
      "needs_background": "light"
     },
     "output_type": "display_data"
    },
    {
     "data": {
      "image/png": "[encoded data removed]",
      "text/plain": [
       "<Figure size 432x288 with 1 Axes>"
      ]
     },
     "metadata": {
      "needs_background": "light"
     },
     "output_type": "display_data"
    }
   ],
   "source": [
    "plt.scatter(data[:, 0], data[:, 1])\n",
    "plt.plot(torch.tensor(np.linspace(0.01, 1, 100)), Beta(0.001, 54, torch.tensor(np.linspace(0.01, 1, 100))))\n",
    "plt.show()\n",
    "\n",
    "plt.scatter(data[:, 0], data[:, 1])\n",
    "plt.plot(torch.tensor(np.linspace(0.01, 1, 100)), BetaConst(np.linspace(0.01, 1, 100)))\n",
    "plt.show()"
   ]
  },
  {
   "cell_type": "code",
   "execution_count": 635,
   "metadata": {},
   "outputs": [
    {
     "name": "stdout",
     "output_type": "stream",
     "text": [
      "0.9721584667714697 0.9383610586134254\n"
     ]
    }
   ],
   "source": [
    "print(br.alpha.item(), br.beta.item())"
   ]
  },
  {
   "cell_type": "code",
   "execution_count": 46,
   "metadata": {},
   "outputs": [
    {
     "name": "stdout",
     "output_type": "stream",
     "text": [
      "tfp.Beta.cdf = tf.Tensor([0.33177936 0.44198978 0.52523714 1.        ], shape=(4,), dtype=float32)\n",
      "scipy beta.cdf =  [0.56866709 0.65687103 0.71666647 1.        ]\n"
     ]
    }
   ],
   "source": [
    "import tensorflow as tf\n",
    "import tensorflow_probability as tfp\n",
    "from scipy import stats\n",
    "from tensorflow_probability.python import distributions\n",
    "bet = distributions.Beta(InitAB[0], InitAB[1])\n",
    "print(\"tfp.Beta.cdf =\", bet.cdf(a))\n",
    "print(\"scipy beta.cdf = \", stats.beta.cdf(a, 0.2, 0.7))"
   ]
  },
  {
   "cell_type": "code",
   "execution_count": 41,
   "metadata": {},
   "outputs": [
    {
     "ename": "NameError",
     "evalue": "name 'tf' is not defined",
     "output_type": "error",
     "traceback": [
      "\u001b[0;31m---------------------------------------------------------------------------\u001b[0m",
      "\u001b[0;31mNameError\u001b[0m                                 Traceback (most recent call last)",
      "\u001b[0;32m<ipython-input-41-082e7b3078ba>\u001b[0m in \u001b[0;36m<module>\u001b[0;34m\u001b[0m\n\u001b[0;32m----> 1\u001b[0;31m \u001b[0ma\u001b[0m \u001b[0;34m=\u001b[0m \u001b[0mtf\u001b[0m\u001b[0;34m.\u001b[0m\u001b[0mconstant\u001b[0m\u001b[0;34m(\u001b[0m\u001b[0;36m0.4\u001b[0m\u001b[0;34m,\u001b[0m \u001b[0mdtype\u001b[0m\u001b[0;34m=\u001b[0m\u001b[0mtf\u001b[0m\u001b[0;34m.\u001b[0m\u001b[0mfloat32\u001b[0m\u001b[0;34m)\u001b[0m\u001b[0;34m\u001b[0m\u001b[0;34m\u001b[0m\u001b[0m\n\u001b[0m\u001b[1;32m      2\u001b[0m \u001b[0mb\u001b[0m \u001b[0;34m=\u001b[0m \u001b[0mtf\u001b[0m\u001b[0;34m.\u001b[0m\u001b[0mconstant\u001b[0m\u001b[0;34m(\u001b[0m\u001b[0;36m0.2\u001b[0m\u001b[0;34m,\u001b[0m \u001b[0mdtype\u001b[0m\u001b[0;34m=\u001b[0m\u001b[0mtf\u001b[0m\u001b[0;34m.\u001b[0m\u001b[0mfloat32\u001b[0m\u001b[0;34m)\u001b[0m\u001b[0;34m\u001b[0m\u001b[0;34m\u001b[0m\u001b[0m\n\u001b[1;32m      3\u001b[0m \u001b[0;31m#a = tf.constant([np.random.random(1)[0], np.random.random(1)[0]], dtype=tf.float32, name=\"ab\")\u001b[0m\u001b[0;34m\u001b[0m\u001b[0;34m\u001b[0m\u001b[0;34m\u001b[0m\u001b[0m\n\u001b[1;32m      4\u001b[0m \u001b[0mprint\u001b[0m\u001b[0;34m(\u001b[0m\u001b[0mnp\u001b[0m\u001b[0;34m.\u001b[0m\u001b[0mrandom\u001b[0m\u001b[0;34m.\u001b[0m\u001b[0mrandom\u001b[0m\u001b[0;34m(\u001b[0m\u001b[0;36m1\u001b[0m\u001b[0;34m)\u001b[0m\u001b[0;34m[\u001b[0m\u001b[0;36m0\u001b[0m\u001b[0;34m]\u001b[0m\u001b[0;34m)\u001b[0m\u001b[0;34m\u001b[0m\u001b[0;34m\u001b[0m\u001b[0m\n\u001b[1;32m      5\u001b[0m \u001b[0;31m#x = [0.1, 0.2, 0.3, 0.4, 0.2, 0.1, 0.1, 0.1, 0.5, 0.6]\u001b[0m\u001b[0;34m\u001b[0m\u001b[0;34m\u001b[0m\u001b[0;34m\u001b[0m\u001b[0m\n",
      "\u001b[0;31mNameError\u001b[0m: name 'tf' is not defined"
     ]
    }
   ],
   "source": [
    "a = tf.constant(0.4, dtype=tf.float32)\n",
    "b = tf.constant(0.2, dtype=tf.float32)\n",
    "#a = tf.constant([np.random.random(1)[0], np.random.random(1)[0]], dtype=tf.float32, name=\"ab\")\n",
    "print(np.random.random(1)[0])\n",
    "#x = [0.1, 0.2, 0.3, 0.4, 0.2, 0.1, 0.1, 0.1, 0.5, 0.6]\n",
    "x = 0.5\n",
    "from tensorflow_probability.python import distributions\n",
    "\n",
    "for _ in np.arange(10):\n",
    "    with tf.GradientTape() as g:\n",
    "        g.watch(a)\n",
    "        with tf.GradientTape() as gg:\n",
    "            gg.watch(b)\n",
    "            bet = distributions.Beta(a, b)\n",
    "            y = tf.constant(stats.beta.cdf(x, a, b)) #bet.cdf(x)\n",
    "            print(\"y =\", y)\n",
    "            #mae_object = tf.keras.losses.MeanAbsoluteError()\n",
    "            #loss_func  = tf.reduce_mean(tf.abs(y - x))\n",
    "            #print(\"loss =\", loss_func)\n",
    "            grad_a = g.gradient(y, a)\n",
    "            #grad_b = g.gradient(z, b)\n",
    "            print(\"grad_a = \", grad_a)\n",
    "            a -= grad_a\n",
    "            print(a)"
   ]
  },
  {
   "cell_type": "code",
   "execution_count": 193,
   "metadata": {},
   "outputs": [],
   "source": [
    "def beta_func(alpha, beta):\n",
    "    return tfp.distributions.Beta(alpha, beta, validate_args=True).cdf(x)"
   ]
  },
  {
   "cell_type": "code",
   "execution_count": 230,
   "metadata": {},
   "outputs": [
    {
     "data": {
      "text/plain": [
       "(<tf.Tensor: shape=(), dtype=float32, numpy=0.4365415>, [None, None])"
      ]
     },
     "execution_count": 230,
     "metadata": {},
     "output_type": "execute_result"
    }
   ],
   "source": [
    "tfp.math.value_and_gradient(beta_func, (0.5, 0.4))"
   ]
  },
  {
   "cell_type": "code",
   "execution_count": 773,
   "metadata": {},
   "outputs": [],
   "source": [
    "def integrate(fun, a, b, N=100):\n",
    "    res = 0\n",
    "    h = (b - a) / N\n",
    "    \n",
    "    for i in np.linspace(a, b, N):\n",
    "        res += fun(a + i) * h\n",
    "    return res\n",
    "\n",
    "\n",
    "def DBeta__(alpha, beta, x):\n",
    "    return (x ** (alpha - 1)) * ((1 - x) ** (beta - 1))\n",
    "\n",
    "def RETBETATEST(alpha, beta, x):\n",
    "    return DBeta__(alpha+0.1, beta+0.1, x) + DBeta__(alpha, beta, x + 0.001)\n",
    "\n",
    "def IncompleteBeta__(alpha, beta, x, N=100):\n",
    "    res1 = 0\n",
    "    res2 = 0\n",
    "    h = x / N\n",
    "    i = 1\n",
    "    last = x\n",
    "    while h * i < last:\n",
    "        #print(\"i =\", i)\n",
    "        res1 += DBeta__(alpha, beta, h * i) * h\n",
    "        i += 1\n",
    "    res2 = res1.clone()\n",
    "    \n",
    "    while h * i < 1:\n",
    "        res2 += DBeta__(alpha, beta, h * i) * h\n",
    "        i += 1\n",
    "    \n",
    "    #print(\"res1 =\", res1, \"res2 =\", res2)\n",
    "    #step = [torch.min(h).item()] * x.shape[0]\n",
    "    #print(\"step =\", step)\n",
    "    #step = torch.tensor(step, dtype=float)\n",
    "    #i = 1\n",
    "    #ones = torch.ones(size=x.shape, dtype=float)\n",
    "    #while (i * step < ones).all():\n",
    "    #    res2 += DBeta__(alpha, beta, i * step) * step\n",
    "    #    i += 1\n",
    "    \n",
    "    return res1 / res2\n",
    "\n",
    "def Beta(alpha, beta, x):\n",
    "    #if x == 0:\n",
    "    #    return 0\n",
    "    #print(IncompleteBeta__(alpha, beta, torch.ones(size=x.shape, dtype=float)))\n",
    "    #print(IncompleteBeta__(alpha, beta, x))\n",
    "    return IncompleteBeta__(alpha, beta, x) #/ IncompleteBeta__(alpha, beta, torch.ones(size=x.shape, dtype=float))\n"
   ]
  },
  {
   "cell_type": "code",
   "execution_count": 26,
   "metadata": {},
   "outputs": [
    {
     "name": "stdout",
     "output_type": "stream",
     "text": [
      "tensor(1., dtype=torch.float64)\n",
      "tensor(0.9901, dtype=torch.float64)\n",
      "tensor(0.3358, dtype=torch.float64)\n",
      "tensor(1., dtype=torch.float64)\n",
      "tensor(1.0000, dtype=torch.float64)\n",
      "tensor(1.0000, dtype=torch.float64)\n",
      "tensor(0.9972, dtype=torch.float64)\n",
      "tensor(0.9700, dtype=torch.float64)\n",
      "tensor(0.9175, dtype=torch.float64)\n",
      "tensor(0.7791, dtype=torch.float64)\n",
      "tensor(0.1320, dtype=torch.float64)\n",
      "tensor(0., dtype=torch.float64)\n",
      "[1.         0.99231165 0.36721892 1.         0.99999996 0.9999961\n",
      " 0.99792063 0.97581439 0.93083676 0.80575272 0.14830013 0.        ]\n"
     ]
    }
   ],
   "source": [
    "t = torch.tensor([1, 0.4, 0.01, 1, 0.9, 0.8, 0.5, 0.3, 0.2, 0.1, 0.001, 0], dtype=float)\n",
    "for t_i in t:\n",
    "    print(Beta(0.4, 6.6, t_i))\n",
    "print(stats.beta.cdf(t, 0.4, 6.6))\n",
    "#print(stats.beta.cdf(2.9, 1.9, 1))"
   ]
  },
  {
   "cell_type": "code",
   "execution_count": 716,
   "metadata": {},
   "outputs": [],
   "source": [
    "def BetaConst(x):\n",
    "    return Beta(1.5, 0.8, torch.tensor(x))\n",
    "#ApproxPlot(torch.tensor(data[:, 0]), torch.tensor(data[:, 1]), BetaConst)"
   ]
  },
  {
   "cell_type": "code",
   "execution_count": 717,
   "metadata": {},
   "outputs": [
    {
     "name": "stdout",
     "output_type": "stream",
     "text": [
      "tensor([0.0026, 0.0026, 0.0026, 0.0026, 0.0026, 0.0026, 0.0026, 0.0026, 0.0026,\n",
      "        0.0026, 0.0026, 0.0026, 0.0026, 0.0026, 0.0026, 0.0026, 0.0026, 0.0026,\n",
      "        0.0026, 0.0026, 0.0026, 0.0026, 0.0026, 0.0026, 0.0026, 0.0026, 0.0026,\n",
      "        0.0026, 0.0026, 0.0026, 0.0026, 0.0026, 0.0026, 0.0026, 0.0026, 0.0026,\n",
      "        0.0026, 0.0026, 0.0026, 0.0026, 0.0026, 0.0026, 0.0026, 0.0026, 0.0026,\n",
      "        0.0026, 0.0026, 0.0026, 0.0026, 0.0026, 0.0026, 0.0026, 0.0026, 0.0026,\n",
      "        0.0026, 0.0026, 0.0026, 0.0026, 0.0026, 0.0026, 0.0026, 0.0026, 0.0026,\n",
      "        0.0026, 0.0026, 0.0026, 0.0026, 0.0026, 0.0026, 0.0026, 0.0026, 0.0026,\n",
      "        0.0026, 0.0026, 0.0026, 0.0026, 0.0026, 0.0026, 0.0026, 0.0026, 0.0026,\n",
      "        0.0026, 0.0026, 0.0026, 0.0026, 0.0026, 0.0026, 0.0026, 0.0026, 0.0026,\n",
      "        0.0026, 0.0026, 0.0026, 0.0026, 0.0026, 0.0026, 0.0026, 0.0026, 0.0026,\n",
      "        0.0026], dtype=torch.float64)\n",
      "tensor([0.0005, 0.0011, 0.0016, 0.0020, 0.0023, 0.0025, 0.0026, 0.0027, 0.0027,\n",
      "        0.0028, 0.0028, 0.0028, 0.0028, 0.0028, 0.0028, 0.0028, 0.0028, 0.0028,\n",
      "        0.0028, 0.0028, 0.0028, 0.0028, 0.0028, 0.0028, 0.0028, 0.0028, 0.0028,\n",
      "        0.0028, 0.0028, 0.0028, 0.0028, 0.0028, 0.0028, 0.0028, 0.0028, 0.0028,\n",
      "        0.0028, 0.0028, 0.0028, 0.0028, 0.0028, 0.0028, 0.0028, 0.0028, 0.0028,\n",
      "        0.0028, 0.0028, 0.0028, 0.0028, 0.0028, 0.0028, 0.0028, 0.0028, 0.0028,\n",
      "        0.0028, 0.0028, 0.0027, 0.0027, 0.0027, 0.0027, 0.0027, 0.0027, 0.0027,\n",
      "        0.0027, 0.0027, 0.0027, 0.0027, 0.0027, 0.0027, 0.0027, 0.0027, 0.0027,\n",
      "        0.0027, 0.0027, 0.0027, 0.0027, 0.0027, 0.0027, 0.0027, 0.0027, 0.0027,\n",
      "        0.0027, 0.0027, 0.0027, 0.0027, 0.0027, 0.0027, 0.0027, 0.0027, 0.0027,\n",
      "        0.0027, 0.0027, 0.0027, 0.0027, 0.0027, 0.0027, 0.0026, 0.0026, 0.0026,\n",
      "        0.0026], dtype=torch.float64)\n"
     ]
    },
    {
     "data": {
      "text/plain": [
       "[<matplotlib.lines.Line2D at 0x7f2a89ad2358>]"
      ]
     },
     "execution_count": 717,
     "metadata": {},
     "output_type": "execute_result"
    },
    {
     "data": {
      "image/png": "[encoded data removed]",
      "text/plain": [
       "<Figure size 432x288 with 1 Axes>"
      ]
     },
     "metadata": {
      "needs_background": "light"
     },
     "output_type": "display_data"
    }
   ],
   "source": [
    "def BetaConst(x):\n",
    "    return Beta(1.5, 45.8, torch.tensor(x))\n",
    "plt.plot(torch.tensor(np.linspace(0.01, 1, 100)), BetaConst(np.linspace(0.01, 1, 100)))"
   ]
  },
  {
   "cell_type": "code",
   "execution_count": 427,
   "metadata": {},
   "outputs": [
    {
     "ename": "SyntaxError",
     "evalue": "invalid syntax (<ipython-input-427-a9e8bd4d1881>, line 1)",
     "output_type": "error",
     "traceback": [
      "\u001b[0;36m  File \u001b[0;32m\"<ipython-input-427-a9e8bd4d1881>\"\u001b[0;36m, line \u001b[0;32m1\u001b[0m\n\u001b[0;31m    if !isinstance(t, torch.Tensor):\u001b[0m\n\u001b[0m       ^\u001b[0m\n\u001b[0;31mSyntaxError\u001b[0m\u001b[0;31m:\u001b[0m invalid syntax\n"
     ]
    }
   ],
   "source": [
    "if !isinstance(t, torch.Tensor):\n",
    "    print(\"fd\")"
   ]
  }
 ],
 "metadata": {
  "kernelspec": {
   "display_name": "Python 3",
   "language": "python",
   "name": "python3"
  },
  "language_info": {
   "codemirror_mode": {
    "name": "ipython",
    "version": 3
   },
   "file_extension": ".py",
   "mimetype": "text/x-python",
   "name": "python",
   "nbconvert_exporter": "python",
   "pygments_lexer": "ipython3",
   "version": "3.7.3"
  }
 },
 "nbformat": 4,
 "nbformat_minor": 2
}
